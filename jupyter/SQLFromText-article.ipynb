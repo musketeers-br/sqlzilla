{
 "cells": [
  {
   "cell_type": "markdown",
   "id": "ad3ff884-fade-4166-b9bc-e88c4ee0d650",
   "metadata": {},
   "source": [
    "# Text to IRIS SQL with langchain"
   ]
  },
  {
   "cell_type": "markdown",
   "id": "d8724007-04b9-4f0e-80b0-4ba92ebcc149",
   "metadata": {},
   "source": [
    "An experiment on how to use langchain framework, IRIS Vector Search and LLMs to generate IRIS-compatible SQL from users' prompts."
   ]
  },
  {
   "cell_type": "markdown",
   "id": "8138b371-8c42-437f-8573-0505d5ecc1b2",
   "metadata": {},
   "source": [
    "## Setup"
   ]
  },
  {
   "cell_type": "code",
   "execution_count": 1,
   "id": "6a59c4d3-d215-4991-9839-f65ada281959",
   "metadata": {},
   "outputs": [
    {
     "name": "stdout",
     "output_type": "stream",
     "text": [
      "\n",
      "\u001b[1m[\u001b[0m\u001b[34;49mnotice\u001b[0m\u001b[1;39;49m]\u001b[0m\u001b[39;49m A new release of pip is available: \u001b[0m\u001b[31;49m24.1.2\u001b[0m\u001b[39;49m -> \u001b[0m\u001b[32;49m24.2\u001b[0m\n",
      "\u001b[1m[\u001b[0m\u001b[34;49mnotice\u001b[0m\u001b[1;39;49m]\u001b[0m\u001b[39;49m To update, run: \u001b[0m\u001b[32;49mpython3 -m pip install --upgrade pip\u001b[0m\n"
     ]
    }
   ],
   "source": [
    "!pip install --upgrade --quiet langchain langchain-openai langchain-iris pandas"
   ]
  },
  {
   "cell_type": "code",
   "execution_count": 2,
   "id": "ea732f2e-b284-4922-9e66-bec7babde7db",
   "metadata": {},
   "outputs": [],
   "source": [
    "import os\n",
    "import datetime\n",
    "import hashlib\n",
    "from copy import deepcopy\n",
    "\n",
    "from sqlalchemy import create_engine\n",
    "\n",
    "import getpass\n",
    "\n",
    "import pandas as pd\n",
    "\n",
    "from langchain_core.prompts import PromptTemplate, ChatPromptTemplate\n",
    "from langchain_core.example_selectors import SemanticSimilarityExampleSelector\n",
    "from langchain_openai import OpenAIEmbeddings, ChatOpenAI\n",
    "from langchain.docstore.document import Document\n",
    "from langchain_community.document_loaders import DataFrameLoader\n",
    "from langchain.text_splitter import CharacterTextSplitter\n",
    "from langchain_core.output_parsers import StrOutputParser\n",
    "from langchain.globals import set_llm_cache\n",
    "from langchain.cache import SQLiteCache\n",
    "\n",
    "from langchain_iris import IRISVector"
   ]
  },
  {
   "cell_type": "code",
   "execution_count": 3,
   "id": "167fd95e-2166-4706-bfaa-676f78950e19",
   "metadata": {},
   "outputs": [],
   "source": [
    "# Cache for LLM calls\n",
    "set_llm_cache(SQLiteCache(database_path=\".langchain.db\"))"
   ]
  },
  {
   "cell_type": "code",
   "execution_count": 4,
   "id": "f966ab66-9209-4aef-a0c4-3806c58dddcb",
   "metadata": {},
   "outputs": [],
   "source": [
    "# IRIS database connection parameters\n",
    "os.environ[\"ISC_LOCAL_SQL_HOSTNAME\"] = \"localhost\"\n",
    "os.environ[\"ISC_LOCAL_SQL_PORT\"] = \"1972\"\n",
    "os.environ[\"ISC_LOCAL_SQL_NAMESPACE\"] = \"IRISAPP\"\n",
    "os.environ[\"ISC_LOCAL_SQL_USER\"] = \"_system\"\n",
    "os.environ[\"ISC_LOCAL_SQL_PWD\"] = \"SYS\""
   ]
  },
  {
   "cell_type": "code",
   "execution_count": 5,
   "id": "2e2525ae-93de-4014-aa16-d639d1cb5fa8",
   "metadata": {},
   "outputs": [
    {
     "name": "stdin",
     "output_type": "stream",
     "text": [
      " ········\n"
     ]
    }
   ],
   "source": [
    "if not \"OPENAI_API_KEY\" in os.environ:\n",
    "    os.environ[\"OPENAI_API_KEY\"] = getpass.getpass()"
   ]
  },
  {
   "cell_type": "code",
   "execution_count": 6,
   "id": "9cb8b254-ec15-40e3-8bc7-10fb1eb51ded",
   "metadata": {},
   "outputs": [],
   "source": [
    "# IRIS database connection string\n",
    "args = {\n",
    "    'hostname': os.getenv(\"ISC_LOCAL_SQL_HOSTNAME\"), \n",
    "    'port': os.getenv(\"ISC_LOCAL_SQL_PORT\"), \n",
    "    'namespace': os.getenv(\"ISC_LOCAL_SQL_NAMESPACE\"), \n",
    "    'username': os.getenv(\"ISC_LOCAL_SQL_USER\"), \n",
    "    'password': os.getenv(\"ISC_LOCAL_SQL_PWD\")\n",
    "}\n",
    "iris_conn_str = f\"iris://{args['username']}:{args['password']}@{args['hostname']}:{args['port']}/{args['namespace']}\""
   ]
  },
  {
   "cell_type": "code",
   "execution_count": 7,
   "id": "1a39d9a4-0f8e-4a1f-9103-515d6f224a78",
   "metadata": {},
   "outputs": [],
   "source": [
    "# Connection to IRIS database\n",
    "engine = create_engine(iris_conn_str)\n",
    "cnx = engine.connect().connection"
   ]
  },
  {
   "cell_type": "code",
   "execution_count": 8,
   "id": "374e1539-4fb7-4bd4-98d8-29ea965feba2",
   "metadata": {},
   "outputs": [],
   "source": [
    "# Dict for context information for system prompt\n",
    "context = {}\n",
    "context[\"top_k\"] = 3"
   ]
  },
  {
   "cell_type": "markdown",
   "id": "83f3bca1-2b0d-4a49-8adc-6ed68b3e64ce",
   "metadata": {},
   "source": [
    "## Prompt creation"
   ]
  },
  {
   "cell_type": "markdown",
   "id": "fe8456a5-f6f9-42b3-bfae-e0c7fae044b5",
   "metadata": {},
   "source": [
    "First, a initial prompt with basic instructions for the LLM create SQL queries is provided. This template was derived from [langchain default prompts for MSSQL](https://github.com/langchain-ai/langchain/blob/b00c0fc558c278e3299a81ddcda9c61cdeff3043/libs/langchain/langchain/chains/sql_database/prompt.py#L106), with IRIS database specific instructions."
   ]
  },
  {
   "cell_type": "code",
   "execution_count": 9,
   "id": "592defad-b72a-4820-b901-75747d1ae6dc",
   "metadata": {},
   "outputs": [],
   "source": [
    "# Basic prompt template with IRIS database SQL instructions\n",
    "iris_sql_template = \"\"\"\n",
    "You are an InterSystems IRIS expert. Given an input question, first create a syntactically correct InterSystems IRIS query to run and return the answer to the input question.\n",
    "Unless the user specifies in the question a specific number of examples to obtain, query for at most {top_k} results using the TOP clause as per InterSystems IRIS. You can order the results to return the most informative data in the database.\n",
    "Never query for all columns from a table. You must query only the columns that are needed to answer the question. Wrap each column name in single quotes ('') to denote them as delimited identifiers.\n",
    "Pay attention to use only the column names you can see in the tables below. Be careful to not query for columns that do not exist. Also, pay attention to which column is in which table.\n",
    "Pay attention to use CAST(CURRENT_DATE as date) function to get the current date, if the question involves \"today\".\n",
    "Use double quotes to delimit columns identifiers.\n",
    "Return just plain SQL; don't apply any kind of formatting.\n",
    "\"\"\""
   ]
  },
  {
   "cell_type": "markdown",
   "id": "83b155ea-7f7f-439f-bd7d-7d5bc7bcb07d",
   "metadata": {},
   "source": [
    "The basic prompt just set up the LLM to perform as an SQL expert with fine tunning to IRIS database hints. An auxiliary prompt providing information about the database tables schema is needed to be provided in order to avoid hallucionations."
   ]
  },
  {
   "cell_type": "code",
   "execution_count": 10,
   "id": "600a1993-5909-413f-b3f0-6e1a0920b069",
   "metadata": {},
   "outputs": [],
   "source": [
    "# SQL template extension for including tables context information\n",
    "tables_prompt_template = \"\"\"\n",
    "Only use the following tables:\n",
    "{table_info}\n",
    "\"\"\""
   ]
  },
  {
   "cell_type": "markdown",
   "id": "908ffa86-3940-4211-889c-03426fe79d79",
   "metadata": {},
   "source": [
    "A good strategy to improve the LLM response accuracy is presenting some examples to the LLM. This techinique is know as few shots prompting. The following is a teplate to add a few shot prompt to the basic one."
   ]
  },
  {
   "cell_type": "code",
   "execution_count": 11,
   "id": "ed7d5413-6ac8-4cd3-b5d9-8259a0f28d7a",
   "metadata": {},
   "outputs": [],
   "source": [
    "# SQL template extension for including few shots\n",
    "prompt_sql_few_shots_template = \"\"\"\n",
    "Below are a number of examples of questions and their corresponding SQL queries.\n",
    "\n",
    "{examples_value}\n",
    "\"\"\""
   ]
  },
  {
   "cell_type": "code",
   "execution_count": 12,
   "id": "2481a3ca-3516-4f78-bcb4-823fb173da86",
   "metadata": {},
   "outputs": [],
   "source": [
    "# Few shots prompt template\n",
    "example_prompt_template = \"User input: {input}\\nSQL query: {query}\"\n",
    "example_prompt = PromptTemplate.from_template(example_prompt_template)"
   ]
  },
  {
   "cell_type": "markdown",
   "id": "b8222a57-c6e5-4f9d-bb20-7d6b5d648407",
   "metadata": {},
   "source": [
    "Build the user prompt using the few shots as template."
   ]
  },
  {
   "cell_type": "code",
   "execution_count": 13,
   "id": "411c9299-054c-41bc-9510-cd742fac83c5",
   "metadata": {},
   "outputs": [],
   "source": [
    "# User prompt template\n",
    "user_prompt = \"\\n\"+example_prompt.invoke({\"input\": \"{input}\", \"query\": \"\"}).to_string()"
   ]
  },
  {
   "cell_type": "markdown",
   "id": "ff38703b-339b-430e-ac43-62c89958c77d",
   "metadata": {},
   "source": [
    "Finally, compose all prompts to create the final one."
   ]
  },
  {
   "cell_type": "code",
   "execution_count": 14,
   "id": "f435b64b-9b1b-4f23-8c12-37062f05e318",
   "metadata": {},
   "outputs": [
    {
     "data": {
      "text/plain": [
       "ChatPromptTemplate(input_variables=['examples_value', 'input', 'table_info', 'top_k'], messages=[SystemMessagePromptTemplate(prompt=PromptTemplate(input_variables=['top_k'], template='\\nYou are an InterSystems IRIS expert. Given an input question, first create a syntactically correct InterSystems IRIS query to run and return the answer to the input question.\\nUnless the user specifies in the question a specific number of examples to obtain, query for at most {top_k} results using the TOP clause as per InterSystems IRIS. You can order the results to return the most informative data in the database.\\nNever query for all columns from a table. You must query only the columns that are needed to answer the question. Wrap each column name in single quotes (\\'\\') to denote them as delimited identifiers.\\nPay attention to use only the column names you can see in the tables below. Be careful to not query for columns that do not exist. Also, pay attention to which column is in which table.\\nPay attention to use CAST(CURRENT_DATE as date) function to get the current date, if the question involves \"today\".\\nUse double quotes to delimit columns identifiers.\\nReturn just plain SQL; don\\'t apply any kink of formatting.\\n')), SystemMessagePromptTemplate(prompt=PromptTemplate(input_variables=['table_info'], template='\\nOnly use the following tables:\\n{table_info}\\n')), SystemMessagePromptTemplate(prompt=PromptTemplate(input_variables=['examples_value'], template='\\nBelow are a number of examples of questions and their corresponding SQL queries.\\n\\n{examples_value}\\n')), HumanMessagePromptTemplate(prompt=PromptTemplate(input_variables=['input'], template='\\nUser input: {input}\\nSQL query: '))])"
      ]
     },
     "execution_count": 14,
     "metadata": {},
     "output_type": "execute_result"
    }
   ],
   "source": [
    "# Complete prompt template\n",
    "prompt = (\n",
    "    ChatPromptTemplate.from_messages([(\"system\", iris_sql_template)])\n",
    "    + ChatPromptTemplate.from_messages([(\"system\", tables_prompt_template)])\n",
    "    + ChatPromptTemplate.from_messages([(\"system\", prompt_sql_few_shots_template)])\n",
    "    + ChatPromptTemplate.from_messages([(\"human\", user_prompt)])\n",
    ")\n",
    "prompt"
   ]
  },
  {
   "cell_type": "markdown",
   "id": "4ddcbc0f-6726-477c-8558-557c23a8b8b3",
   "metadata": {},
   "source": [
    "This prompt expects the variables `examples_value`, `input`, `table_info` and `top_k`.\n",
    "\n",
    "Let's provide some foo values for them in order to see how the prompt is sent to the LLM:"
   ]
  },
  {
   "cell_type": "code",
   "execution_count": 15,
   "id": "c9848099-acb1-4adc-9e84-49df152f5c9c",
   "metadata": {},
   "outputs": [
    {
     "name": "stdout",
     "output_type": "stream",
     "text": [
      "System: \n",
      "You are an InterSystems IRIS expert. Given an input question, first create a syntactically correct InterSystems IRIS query to run and return the answer to the input question.\n",
      "Unless the user specifies in the question a specific number of examples to obtain, query for at most <top_k> results using the TOP clause as per InterSystems IRIS. You can order the results to return the most informative data in the database.\n",
      "Never query for all columns from a table. You must query only the columns that are needed to answer the question. Wrap each column name in single quotes ('') to denote them as delimited identifiers.\n",
      "Pay attention to use only the column names you can see in the tables below. Be careful to not query for columns that do not exist. Also, pay attention to which column is in which table.\n",
      "Pay attention to use CAST(CURRENT_DATE as date) function to get the current date, if the question involves \"today\".\n",
      "Use double quotes to delimit columns identifiers.\n",
      "Return just plain SQL; don't apply any kink of formatting.\n",
      "\n",
      "System: \n",
      "Only use the following tables:\n",
      "<table_info>\n",
      "\n",
      "System: \n",
      "Below are a number of examples of questions and their corresponding SQL queries.\n",
      "\n",
      "<examples_value>\n",
      "\n",
      "Human: \n",
      "User input: <input>\n",
      "SQL query: \n"
     ]
    }
   ],
   "source": [
    "prompt_value = prompt.invoke({\n",
    "    \"top_k\": \"<top_k>\",\n",
    "    \"table_info\": \"<table_info>\",\n",
    "    \"examples_value\": \"<examples_value>\",\n",
    "    \"input\": \"<input>\"\n",
    "})\n",
    "print(prompt_value.to_string())"
   ]
  },
  {
   "cell_type": "markdown",
   "id": "48ca5f54-53c7-4803-827c-37fc7598f5e5",
   "metadata": {},
   "source": [
    "So, in order to send this prompt to the LLM we must provide those variables. Let's do that!"
   ]
  },
  {
   "cell_type": "markdown",
   "id": "be2c1c9e-93eb-46c8-b550-2b47112ac30d",
   "metadata": {},
   "source": [
    "## Providing table information"
   ]
  },
  {
   "cell_type": "markdown",
   "id": "f9b8d5f8-da45-491d-821a-f5a6b11b7ffe",
   "metadata": {},
   "source": [
    "May sounds kind of obvious that you need to provide information about tables in order to SQL queries creation. However, if we don't provide to the LLM which tables it should base its response, probably it'll send you some query that possibly will seems plausible but probably won't work, an example of halluciantion."
   ]
  },
  {
   "cell_type": "markdown",
   "id": "723716b6-a304-4590-aa16-945e7abc768d",
   "metadata": {},
   "source": [
    "So, first let's create a function that queries the INFORMATION_SCHEMA and returns the tabels for a schema."
   ]
  },
  {
   "cell_type": "code",
   "execution_count": 16,
   "id": "8ff693a8-06c7-43e3-9cdb-bf144b601470",
   "metadata": {
    "jupyter": {
     "source_hidden": true
    }
   },
   "outputs": [],
   "source": [
    "def get_table_definitions_array(cnx, schema, table=None):\n",
    "    \"\"\"\n",
    "    Generate SQL `CREATE TABLE` statements for tables in a given schema.\n",
    "\n",
    "    This function queries the database to retrieve column definitions and \n",
    "    constructs SQL `CREATE TABLE` statements for each table within the specified schema. \n",
    "    If a specific table name is provided, it generates the statement only for that table.\n",
    "\n",
    "    Args:\n",
    "        cnx: An IRIS connection object.\n",
    "        schema (str): The name of the schema to retrieve table definitions from.\n",
    "        table (str, optional): The name of a specific table to retrieve the definition for. \n",
    "                               If not provided, definitions for all tables in the schema are retrieved.\n",
    "\n",
    "    Returns:\n",
    "        list of str: A list of SQL `CREATE TABLE` statements as strings.\n",
    "    \"\"\"\n",
    "    \n",
    "    cursor = cnx.cursor()\n",
    "\n",
    "    # Base query to get columns information\n",
    "    query = \"\"\"\n",
    "    SELECT TABLE_SCHEMA, TABLE_NAME, COLUMN_NAME, DATA_TYPE, IS_NULLABLE, COLUMN_DEFAULT, PRIMARY_KEY, null EXTRA\n",
    "    FROM INFORMATION_SCHEMA.COLUMNS\n",
    "    WHERE TABLE_SCHEMA = %s\n",
    "    \"\"\"\n",
    "    \n",
    "    # Parameters for the query\n",
    "    params = [schema]\n",
    "\n",
    "    # Adding optional filters\n",
    "    if table:\n",
    "        query += \" AND TABLE_NAME = %s\"\n",
    "        params.append(table)\n",
    "    \n",
    "    # Execute the query\n",
    "    cursor.execute(query, params)\n",
    "\n",
    "    # Fetch the results\n",
    "    rows = cursor.fetchall()\n",
    "    \n",
    "    # Process the results to generate the table definition(s)\n",
    "    table_definitions = {}\n",
    "    for row in rows:\n",
    "        table_schema, table_name, column_name, column_type, is_nullable, column_default, column_key, extra = row\n",
    "        if table_name not in table_definitions:\n",
    "            table_definitions[table_name] = []\n",
    "        table_definitions[table_name].append({\n",
    "            \"column_name\": column_name,\n",
    "            \"column_type\": column_type,\n",
    "            \"is_nullable\": is_nullable,\n",
    "            \"column_default\": column_default,\n",
    "            \"column_key\": column_key,\n",
    "            \"extra\": extra\n",
    "        })\n",
    "\n",
    "    primary_keys = {}\n",
    "    \n",
    "    # Build the output string\n",
    "    result = []\n",
    "    for table_name, columns in table_definitions.items():\n",
    "        table_def = f\"CREATE TABLE {schema}.{table_name} (\\n\"\n",
    "        column_definitions = []\n",
    "        for column in columns:\n",
    "            column_def = f\"  {column['column_name']} {column['column_type']}\"\n",
    "            if column['is_nullable'] == \"NO\":\n",
    "                column_def += \" NOT NULL\"\n",
    "            if column['column_default'] is not None:\n",
    "                column_def += f\" DEFAULT {column['column_default']}\"\n",
    "            if column['extra']:\n",
    "                column_def += f\" {column['extra']}\"\n",
    "            column_definitions.append(column_def)\n",
    "        if table_name in primary_keys:\n",
    "            pk_def = f\"  PRIMARY KEY ({', '.join(primary_keys[table_name])})\"\n",
    "            column_definitions.append(pk_def)\n",
    "        table_def += \",\\n\".join(column_definitions)\n",
    "        table_def += \"\\n);\"\n",
    "        result.append(table_def)\n",
    "\n",
    "    return result"
   ]
  },
  {
   "cell_type": "markdown",
   "id": "4839520d-5504-489e-9645-7729c0f17e80",
   "metadata": {},
   "source": [
    "Now, we are able to retrieve all tables for a schema.\n",
    "\n",
    "For this example, we're going to use the Aviation schema, available [here](https://openexchange.intersystems.com/package/Samples-Aviation)."
   ]
  },
  {
   "cell_type": "code",
   "execution_count": 17,
   "id": "7f0297f1-a411-466e-bbfe-77ba7c31f8f0",
   "metadata": {},
   "outputs": [
    {
     "data": {
      "text/plain": [
       "['CREATE TABLE Aviation.Aircraft (\\n  Event bigint NOT NULL,\\n  ID varchar NOT NULL,\\n  AccidentExplosion varchar,\\n  AccidentFire varchar,\\n  AirFrameHours varchar,\\n  AirFrameHoursSince varchar,\\n  AirFrameHoursSinceLastInspection varchar,\\n  AircraftCategory varchar,\\n  AircraftCertMaxGrossWeight integer,\\n  AircraftHomeBuilt varchar,\\n  AircraftKey integer NOT NULL,\\n  AircraftManufacturer varchar,\\n  AircraftModel varchar,\\n  AircraftRegistrationClass varchar,\\n  AircraftSerialNo varchar,\\n  AircraftSeries varchar,\\n  Damage varchar,\\n  DepartureAirportId varchar,\\n  DepartureCity varchar,\\n  DepartureCountry varchar,\\n  DepartureSameAsEvent varchar,\\n  DepartureState varchar,\\n  DepartureTime integer,\\n  DepartureTimeZone varchar,\\n  DestinationAirportId varchar,\\n  DestinationCity varchar,\\n  DestinationCountry varchar,\\n  DestinationSameAsLocal varchar,\\n  DestinationState varchar,\\n  EngineCount integer,\\n  EvacuationOccurred varchar,\\n  EventId varchar NOT NULL,\\n  FlightMedical varchar,\\n  FlightMedicalType varchar,\\n  FlightPhase integer,\\n  FlightPlan varchar,\\n  FlightPlanActivated varchar,\\n  FlightSiteSeeing varchar,\\n  FlightType varchar,\\n  GearType varchar,\\n  LastInspectionDate timestamp,\\n  LastInspectionType varchar,\\n  Missing varchar,\\n  OperationDomestic varchar,\\n  OperationScheduled varchar,\\n  OperationType varchar,\\n  OperatorCertificate varchar,\\n  OperatorCertificateNum varchar,\\n  OperatorCode varchar,\\n  OperatorCountry varchar,\\n  OperatorIndividual varchar,\\n  OperatorName varchar,\\n  OperatorState varchar,\\n  Owner varchar,\\n  OwnerCertified varchar,\\n  OwnerCountry varchar,\\n  OwnerState varchar,\\n  RegistrationNumber varchar,\\n  ReportedToICAO varchar,\\n  SeatsCabinCrew integer,\\n  SeatsFlightCrew integer,\\n  SeatsPassengers integer,\\n  SeatsTotal integer,\\n  SecondPilot varchar,\\n  childsub bigint NOT NULL DEFAULT $i(^Aviation.EventC(\"Aircraft\"))\\n);',\n",
       " 'CREATE TABLE Aviation.Crew (\\n  Aircraft varchar NOT NULL,\\n  ID varchar NOT NULL,\\n  Age integer,\\n  AircraftKey integer NOT NULL,\\n  Category varchar,\\n  CrewNumber integer NOT NULL,\\n  EventId varchar NOT NULL,\\n  Injury varchar,\\n  MedicalCertification varchar,\\n  MedicalCertificationDate timestamp,\\n  MedicalCertificationValid varchar,\\n  Seat varchar,\\n  SeatbeltUsed varchar,\\n  Sex varchar,\\n  ShoulderHarnessUsed varchar,\\n  ToxicologyTestPerformed varchar,\\n  childsub bigint NOT NULL DEFAULT $i(^Aviation.AircraftC(\"Crew\"))\\n);',\n",
       " 'CREATE TABLE Aviation.Event (\\n  ID bigint NOT NULL DEFAULT $i(^Aviation.EventD),\\n  AirportDirection integer,\\n  AirportDistance varchar,\\n  AirportElevation integer,\\n  AirportLocation varchar,\\n  AirportName varchar,\\n  Altimeter varchar,\\n  EventDate timestamp,\\n  EventId varchar NOT NULL,\\n  EventTime integer,\\n  FAADistrictOffice varchar,\\n  InjuriesGroundFatal integer,\\n  InjuriesGroundMinor integer,\\n  InjuriesGroundSerious integer,\\n  InjuriesHighest varchar,\\n  InjuriesTotal integer,\\n  InjuriesTotalFatal integer,\\n  InjuriesTotalMinor integer,\\n  InjuriesTotalNone integer,\\n  InjuriesTotalSerious integer,\\n  InvestigatingAgency varchar,\\n  LightConditions varchar,\\n  LocationCity varchar,\\n  LocationCoordsLatitude double,\\n  LocationCoordsLongitude double,\\n  LocationCountry varchar,\\n  LocationSiteZipCode varchar,\\n  LocationState varchar,\\n  MidAir varchar,\\n  NTSBId varchar,\\n  NarrativeCause varchar,\\n  NarrativeFull varchar,\\n  NarrativeSummary varchar,\\n  OnGroundCollision varchar,\\n  SkyConditionCeiling varchar,\\n  SkyConditionCeilingHeight integer,\\n  SkyConditionNonCeiling varchar,\\n  SkyConditionNonCeilingHeight integer,\\n  TimeZone varchar,\\n  Type varchar,\\n  Visibility varchar,\\n  WeatherAirTemperature integer,\\n  WeatherPrecipitation varchar,\\n  WindDirection integer,\\n  WindDirectionIndicator varchar,\\n  WindGust integer,\\n  WindGustIndicator varchar,\\n  WindVelocity integer,\\n  WindVelocityIndicator varchar\\n);']"
      ]
     },
     "execution_count": 17,
     "metadata": {},
     "output_type": "execute_result"
    }
   ],
   "source": [
    "get_table_definitions_array(cnx, \"Aviation\")"
   ]
  },
  {
   "cell_type": "markdown",
   "id": "cbf2e210-2f68-47c5-8529-22ba682c487b",
   "metadata": {},
   "source": [
    "## Selecting the most relevant tables"
   ]
  },
  {
   "cell_type": "markdown",
   "id": "29b015f5-b387-4f54-bd3c-4542a7a54a13",
   "metadata": {},
   "source": [
    "For small databases like the used in this example is OK to send DDL for all tables in the prompt. However, real databases easily could have hundreds or even thousands of tables, turning unfeasable sending all of them to the LLM.\n",
    "\n",
    "Furthermore, is unlikely that the LLM needs to know all tables in order to create SQL queries.\n",
    "\n",
    "So, we have a way to select just the most relevant tables given an user prompt. \n",
    "\n",
    "We can achieve such functionality using sematic search capabilities with IRIS Vector Search.\n",
    "\n",
    "Note: this approach only makes sense if your SQL elements identifiers (tables, fields, keys etc) has some meaning. If your identifiers are just codes, you must use some kind of data dictionary instead."
   ]
  },
  {
   "cell_type": "markdown",
   "id": "8eabb633-e31f-4bf9-9659-bf6f2fe08365",
   "metadata": {},
   "source": [
    "First, let's retrieve the table information into a pandas dataframe."
   ]
  },
  {
   "cell_type": "code",
   "execution_count": 18,
   "id": "332050a0-0358-4cc8-bcba-ac62476c3de4",
   "metadata": {},
   "outputs": [
    {
     "data": {
      "text/html": [
       "<div>\n",
       "<style scoped>\n",
       "    .dataframe tbody tr th:only-of-type {\n",
       "        vertical-align: middle;\n",
       "    }\n",
       "\n",
       "    .dataframe tbody tr th {\n",
       "        vertical-align: top;\n",
       "    }\n",
       "\n",
       "    .dataframe thead th {\n",
       "        text-align: right;\n",
       "    }\n",
       "</style>\n",
       "<table border=\"1\" class=\"dataframe\">\n",
       "  <thead>\n",
       "    <tr style=\"text-align: right;\">\n",
       "      <th></th>\n",
       "      <th>col_def</th>\n",
       "      <th>id</th>\n",
       "    </tr>\n",
       "  </thead>\n",
       "  <tbody>\n",
       "    <tr>\n",
       "      <th>0</th>\n",
       "      <td>CREATE TABLE Aviation.Aircraft (\\n  Event bigi...</td>\n",
       "      <td>1</td>\n",
       "    </tr>\n",
       "    <tr>\n",
       "      <th>1</th>\n",
       "      <td>CREATE TABLE Aviation.Crew (\\n  Aircraft varch...</td>\n",
       "      <td>2</td>\n",
       "    </tr>\n",
       "    <tr>\n",
       "      <th>2</th>\n",
       "      <td>CREATE TABLE Aviation.Event (\\n  ID bigint NOT...</td>\n",
       "      <td>3</td>\n",
       "    </tr>\n",
       "  </tbody>\n",
       "</table>\n",
       "</div>"
      ],
      "text/plain": [
       "                                             col_def  id\n",
       "0  CREATE TABLE Aviation.Aircraft (\\n  Event bigi...   1\n",
       "1  CREATE TABLE Aviation.Crew (\\n  Aircraft varch...   2\n",
       "2  CREATE TABLE Aviation.Event (\\n  ID bigint NOT...   3"
      ]
     },
     "execution_count": 18,
     "metadata": {},
     "output_type": "execute_result"
    }
   ],
   "source": [
    "# Retrieve the tables information into a pandas dataframe\n",
    "table_def = get_table_definitions_array(cnx=cnx, schema='Aviation')\n",
    "table_df = pd.DataFrame(data=table_def, columns=[\"col_def\"])\n",
    "table_df[\"id\"] = table_df.index + 1\n",
    "table_df"
   ]
  },
  {
   "cell_type": "markdown",
   "id": "ea0df2aa-68b2-4100-83fa-4b07876a3d61",
   "metadata": {},
   "source": [
    "Next, let's split the definitions into langchain [Documents](https://api.python.langchain.com/en/latest/documents/langchain_core.documents.base.Document.html). That step allows big chuncks of text to be sent to text embeddings extraction which generally has length limitations."
   ]
  },
  {
   "cell_type": "code",
   "execution_count": 19,
   "id": "880625b6-e6ef-4ed4-a175-8346192666eb",
   "metadata": {},
   "outputs": [
    {
     "data": {
      "text/plain": [
       "[Document(metadata={'id': 1}, page_content='CREATE TABLE Aviation.Aircraft (\\n  Event bigint NOT NULL,\\n  ID varchar NOT NULL,\\n  AccidentExplosion varchar,\\n  AccidentFire varchar,\\n  AirFrameHours varchar,\\n  AirFrameHoursSince varchar,\\n  AirFrameHoursSinceLastInspection varchar,\\n  AircraftCategory varchar,\\n  AircraftCertMaxGrossWeight integer,\\n  AircraftHomeBuilt varchar,\\n  AircraftKey integer NOT NULL,\\n  AircraftManufacturer varchar,'),\n",
       " Document(metadata={'id': 1}, page_content='AircraftModel varchar,\\n  AircraftRegistrationClass varchar,\\n  AircraftSerialNo varchar,\\n  AircraftSeries varchar,\\n  Damage varchar,\\n  DepartureAirportId varchar,\\n  DepartureCity varchar,\\n  DepartureCountry varchar,\\n  DepartureSameAsEvent varchar,\\n  DepartureState varchar,\\n  DepartureTime integer,\\n  DepartureTimeZone varchar,\\n  DestinationAirportId varchar,\\n  DestinationCity varchar,'),\n",
       " Document(metadata={'id': 1}, page_content='DestinationCountry varchar,\\n  DestinationSameAsLocal varchar,\\n  DestinationState varchar,\\n  EngineCount integer,\\n  EvacuationOccurred varchar,\\n  EventId varchar NOT NULL,\\n  FlightMedical varchar,\\n  FlightMedicalType varchar,\\n  FlightPhase integer,\\n  FlightPlan varchar,\\n  FlightPlanActivated varchar,\\n  FlightSiteSeeing varchar,\\n  FlightType varchar,\\n  GearType varchar,'),\n",
       " Document(metadata={'id': 1}, page_content='GearType varchar,\\n  LastInspectionDate timestamp,\\n  LastInspectionType varchar,\\n  Missing varchar,\\n  OperationDomestic varchar,\\n  OperationScheduled varchar,\\n  OperationType varchar,\\n  OperatorCertificate varchar,\\n  OperatorCertificateNum varchar,\\n  OperatorCode varchar,\\n  OperatorCountry varchar,\\n  OperatorIndividual varchar,\\n  OperatorName varchar,\\n  OperatorState varchar,\\n  Owner varchar,'),\n",
       " Document(metadata={'id': 1}, page_content='Owner varchar,\\n  OwnerCertified varchar,\\n  OwnerCountry varchar,\\n  OwnerState varchar,\\n  RegistrationNumber varchar,\\n  ReportedToICAO varchar,\\n  SeatsCabinCrew integer,\\n  SeatsFlightCrew integer,\\n  SeatsPassengers integer,\\n  SeatsTotal integer,\\n  SecondPilot varchar,\\n  childsub bigint NOT NULL DEFAULT $i(^Aviation.EventC(\"Aircraft\"))\\n);'),\n",
       " Document(metadata={'id': 2}, page_content='CREATE TABLE Aviation.Crew (\\n  Aircraft varchar NOT NULL,\\n  ID varchar NOT NULL,\\n  Age integer,\\n  AircraftKey integer NOT NULL,\\n  Category varchar,\\n  CrewNumber integer NOT NULL,\\n  EventId varchar NOT NULL,\\n  Injury varchar,\\n  MedicalCertification varchar,\\n  MedicalCertificationDate timestamp,\\n  MedicalCertificationValid varchar,\\n  Seat varchar,\\n  SeatbeltUsed varchar,\\n  Sex varchar,'),\n",
       " Document(metadata={'id': 2}, page_content='Sex varchar,\\n  ShoulderHarnessUsed varchar,\\n  ToxicologyTestPerformed varchar,\\n  childsub bigint NOT NULL DEFAULT $i(^Aviation.AircraftC(\"Crew\"))\\n);'),\n",
       " Document(metadata={'id': 3}, page_content='CREATE TABLE Aviation.Event (\\n  ID bigint NOT NULL DEFAULT $i(^Aviation.EventD),\\n  AirportDirection integer,\\n  AirportDistance varchar,\\n  AirportElevation integer,\\n  AirportLocation varchar,\\n  AirportName varchar,\\n  Altimeter varchar,\\n  EventDate timestamp,\\n  EventId varchar NOT NULL,\\n  EventTime integer,\\n  FAADistrictOffice varchar,\\n  InjuriesGroundFatal integer,\\n  InjuriesGroundMinor integer,'),\n",
       " Document(metadata={'id': 3}, page_content='InjuriesGroundSerious integer,\\n  InjuriesHighest varchar,\\n  InjuriesTotal integer,\\n  InjuriesTotalFatal integer,\\n  InjuriesTotalMinor integer,\\n  InjuriesTotalNone integer,\\n  InjuriesTotalSerious integer,\\n  InvestigatingAgency varchar,\\n  LightConditions varchar,\\n  LocationCity varchar,\\n  LocationCoordsLatitude double,\\n  LocationCoordsLongitude double,\\n  LocationCountry varchar,'),\n",
       " Document(metadata={'id': 3}, page_content='LocationSiteZipCode varchar,\\n  LocationState varchar,\\n  MidAir varchar,\\n  NTSBId varchar,\\n  NarrativeCause varchar,\\n  NarrativeFull varchar,\\n  NarrativeSummary varchar,\\n  OnGroundCollision varchar,\\n  SkyConditionCeiling varchar,\\n  SkyConditionCeilingHeight integer,\\n  SkyConditionNonCeiling varchar,\\n  SkyConditionNonCeilingHeight integer,\\n  TimeZone varchar,\\n  Type varchar,\\n  Visibility varchar,'),\n",
       " Document(metadata={'id': 3}, page_content='WeatherAirTemperature integer,\\n  WeatherPrecipitation varchar,\\n  WindDirection integer,\\n  WindDirectionIndicator varchar,\\n  WindGust integer,\\n  WindGustIndicator varchar,\\n  WindVelocity integer,\\n  WindVelocityIndicator varchar\\n);')]"
      ]
     },
     "execution_count": 19,
     "metadata": {},
     "output_type": "execute_result"
    }
   ],
   "source": [
    "loader = DataFrameLoader(table_df, page_content_column=\"col_def\")\n",
    "documents = loader.load()\n",
    "text_splitter = CharacterTextSplitter(chunk_size=400, chunk_overlap=20, separator=\"\\n\")\n",
    "tables_docs = text_splitter.split_documents(documents)\n",
    "tables_docs"
   ]
  },
  {
   "cell_type": "markdown",
   "id": "950409f7-8322-40cb-8602-38f7ce3c2ccf",
   "metadata": {},
   "source": [
    "Now we're ready to extract the embeddings vectors and store them into IRIS, using the `IRISVector` class from [langchain-iris](https://pypi.org/project/langchain-iris/)."
   ]
  },
  {
   "cell_type": "code",
   "execution_count": 20,
   "id": "e1c07568-f271-43eb-9fc8-1060db239950",
   "metadata": {},
   "outputs": [],
   "source": [
    "tables_vector_store = IRISVector.from_documents(\n",
    "    embedding = OpenAIEmbeddings(), \n",
    "    documents = tables_docs,\n",
    "    connection_string=iris_conn_str,\n",
    "    collection_name=\"sql_tables\",\n",
    "    pre_delete_collection=True\n",
    ")"
   ]
  },
  {
   "cell_type": "markdown",
   "id": "bbd249c2-ecc6-4a26-8338-7d5768a65931",
   "metadata": {},
   "source": [
    "Note: the `pre_delete_collection` flag is used here for demo purpose only to ensure a fresh collection on every test run during development. In production environment this flag probably should not be used - its default value is `False`."
   ]
  },
  {
   "cell_type": "markdown",
   "id": "f221ca3b-7588-43dd-85c4-66155de5cb08",
   "metadata": {},
   "source": [
    "Now, we are able to find the most relevants documents regarding a user prompt.\n",
    "\n",
    "For instance, let's query for aircrafts manufactures:"
   ]
  },
  {
   "cell_type": "code",
   "execution_count": 21,
   "id": "c13e298e-36f8-41cb-baa7-7b8872703498",
   "metadata": {},
   "outputs": [
    {
     "data": {
      "text/plain": [
       "[Document(metadata={'id': 1}, page_content='GearType varchar,\\n  LastInspectionDate timestamp,\\n  LastInspectionType varchar,\\n  Missing varchar,\\n  OperationDomestic varchar,\\n  OperationScheduled varchar,\\n  OperationType varchar,\\n  OperatorCertificate varchar,\\n  OperatorCertificateNum varchar,\\n  OperatorCode varchar,\\n  OperatorCountry varchar,\\n  OperatorIndividual varchar,\\n  OperatorName varchar,\\n  OperatorState varchar,\\n  Owner varchar,'),\n",
       " Document(metadata={'id': 1}, page_content='AircraftModel varchar,\\n  AircraftRegistrationClass varchar,\\n  AircraftSerialNo varchar,\\n  AircraftSeries varchar,\\n  Damage varchar,\\n  DepartureAirportId varchar,\\n  DepartureCity varchar,\\n  DepartureCountry varchar,\\n  DepartureSameAsEvent varchar,\\n  DepartureState varchar,\\n  DepartureTime integer,\\n  DepartureTimeZone varchar,\\n  DestinationAirportId varchar,\\n  DestinationCity varchar,'),\n",
       " Document(metadata={'id': 3}, page_content='LocationSiteZipCode varchar,\\n  LocationState varchar,\\n  MidAir varchar,\\n  NTSBId varchar,\\n  NarrativeCause varchar,\\n  NarrativeFull varchar,\\n  NarrativeSummary varchar,\\n  OnGroundCollision varchar,\\n  SkyConditionCeiling varchar,\\n  SkyConditionCeilingHeight integer,\\n  SkyConditionNonCeiling varchar,\\n  SkyConditionNonCeilingHeight integer,\\n  TimeZone varchar,\\n  Type varchar,\\n  Visibility varchar,')]"
      ]
     },
     "execution_count": 21,
     "metadata": {},
     "output_type": "execute_result"
    }
   ],
   "source": [
    "input = \"List the first 2 manufacturers\"\n",
    "relevant_tables_docs = tables_vector_store.similarity_search(input, k=3)\n",
    "relevant_tables_docs"
   ]
  },
  {
   "cell_type": "markdown",
   "id": "73bd27fa-96fa-4a83-87ac-4d6458cb551f",
   "metadata": {},
   "source": [
    "As you can see in the `id` metadata field, only the table with ID 1 was retrieved for the 3 most similar documents. By looking up that ID in the `table_df` dataframe by its `id` column, we can find that only the `Aviation.Aircraft` table seems to be relevant to this query, which makes sense.\n",
    "\n",
    "But this isn't always perfect. Let's try another prompt:"
   ]
  },
  {
   "cell_type": "code",
   "execution_count": 22,
   "id": "11d0f792-6d8d-499f-af37-186ebc68a1a5",
   "metadata": {},
   "outputs": [
    {
     "data": {
      "text/plain": [
       "[Document(metadata={'id': 3}, page_content='LocationSiteZipCode varchar,\\n  LocationState varchar,\\n  MidAir varchar,\\n  NTSBId varchar,\\n  NarrativeCause varchar,\\n  NarrativeFull varchar,\\n  NarrativeSummary varchar,\\n  OnGroundCollision varchar,\\n  SkyConditionCeiling varchar,\\n  SkyConditionCeilingHeight integer,\\n  SkyConditionNonCeiling varchar,\\n  SkyConditionNonCeilingHeight integer,\\n  TimeZone varchar,\\n  Type varchar,\\n  Visibility varchar,'),\n",
       " Document(metadata={'id': 3}, page_content='InjuriesGroundSerious integer,\\n  InjuriesHighest varchar,\\n  InjuriesTotal integer,\\n  InjuriesTotalFatal integer,\\n  InjuriesTotalMinor integer,\\n  InjuriesTotalNone integer,\\n  InjuriesTotalSerious integer,\\n  InvestigatingAgency varchar,\\n  LightConditions varchar,\\n  LocationCity varchar,\\n  LocationCoordsLatitude double,\\n  LocationCoordsLongitude double,\\n  LocationCountry varchar,'),\n",
       " Document(metadata={'id': 1}, page_content='CREATE TABLE Aviation.Aircraft (\\n  Event bigint NOT NULL,\\n  ID varchar NOT NULL,\\n  AccidentExplosion varchar,\\n  AccidentFire varchar,\\n  AirFrameHours varchar,\\n  AirFrameHoursSince varchar,\\n  AirFrameHoursSinceLastInspection varchar,\\n  AircraftCategory varchar,\\n  AircraftCertMaxGrossWeight integer,\\n  AircraftHomeBuilt varchar,\\n  AircraftKey integer NOT NULL,\\n  AircraftManufacturer varchar,')]"
      ]
     },
     "execution_count": 22,
     "metadata": {},
     "output_type": "execute_result"
    }
   ],
   "source": [
    "input = \"List the top 10 most crash sites\"\n",
    "relevant_tables_docs = tables_vector_store.similarity_search(input, k=3)\n",
    "relevant_tables_docs"
   ]
  },
  {
   "cell_type": "markdown",
   "id": "a9f2c0ca-f85a-4088-9db6-589f2fa50034",
   "metadata": {},
   "source": [
    "Despite of the (correct) table `Aviation.Event` (ID 3) was selected twice, the (incorrect) table `Aviation.Aircraft` (ID 1) was also selected.\n",
    "\n",
    "This probably could be improved by adding some threshold for result aceptance, but this is subject for future work.\n",
    "\n",
    "So, in general, by using this apporach, we have a way to filter only the top k relevante tables which will be sent to LLM, helping in decrease the prompt length. \n",
    "\n",
    "Let's define a function for it and populate the variable wich will be used in the `table_info`:"
   ]
  },
  {
   "cell_type": "code",
   "execution_count": 23,
   "id": "db6da85a-3440-4b61-96e0-757044e635e2",
   "metadata": {},
   "outputs": [],
   "source": [
    "def get_relevant_tables(user_input, tables_vector_store, table_df):\n",
    "    relevant_tables_docs = tables_vector_store.similarity_search(user_input)\n",
    "    relevant_tables_docs_indices = [x.metadata[\"id\"] for x in relevant_tables_docs]\n",
    "    indices = table_df[\"id\"].isin(relevant_tables_docs_indices)\n",
    "    relevant_tables_array = [x for x in table_df[indices][\"col_def\"]]\n",
    "    return relevant_tables_array"
   ]
  },
  {
   "cell_type": "markdown",
   "id": "c860d9de-7add-4752-9b64-250040502014",
   "metadata": {},
   "source": [
    "## Selecting the most relevants examples (few shots)"
   ]
  },
  {
   "cell_type": "markdown",
   "id": "f16039e2-22bf-421a-9d6b-6249db76e35c",
   "metadata": {},
   "source": [
    "The next variable we need to provide information is `examples_value`.\n",
    "\n",
    "First let's define a list with examples, such examples tries to cover most aspects of IRIS SQL sintaxe and tables available int the database to help the LLM to not hallucinate."
   ]
  },
  {
   "cell_type": "code",
   "execution_count": 24,
   "id": "f110e0c6-dd29-4e04-8800-2caab771bf09",
   "metadata": {},
   "outputs": [],
   "source": [
    "examples = [\n",
    "    {\n",
    "        \"input\": \"List all aircrafts.\", \n",
    "        \"query\": \"SELECT * FROM Aviation.Aircraft\"\n",
    "    },{\n",
    "        \"input\": \"Find all incidents for the aircraft with ID 'N12345'.\",\n",
    "        \"query\": \"SELECT * FROM Aviation.Event WHERE EventId IN (SELECT EventId FROM Aviation.Aircraft WHERE ID = 'N12345')\"\n",
    "    },{\n",
    "        \"input\": \"List all incidents in the 'Commercial' operation type.\",\n",
    "        \"query\": \"SELECT * FROM Aviation.Event WHERE EventId IN (SELECT EventId FROM Aviation.Aircraft WHERE OperationType = 'Commercial')\"\n",
    "    },{\n",
    "        \"input\": \"Find the total number of incidents.\",\n",
    "        \"query\": \"SELECT COUNT(*) FROM Aviation.Event\"\n",
    "    },{\n",
    "        \"input\": \"List all incidents that occurred in 'Canada'.\",\n",
    "        \"query\": \"SELECT * FROM Aviation.Event WHERE LocationCountry = 'Canada'\"\n",
    "    },{\n",
    "        \"input\": \"How many incidents are associated with the aircraft with AircraftKey 5?\",\n",
    "        \"query\": \"SELECT COUNT(*) FROM Aviation.Aircraft WHERE AircraftKey = 5\"\n",
    "    },{\n",
    "        \"input\": \"Find the total number of distinct aircrafts involved in incidents.\",\n",
    "        \"query\": \"SELECT COUNT(DISTINCT AircraftKey) FROM Aviation.Aircraft\"\n",
    "    },{\n",
    "        \"input\": \"List all incidents that occurred after 5 PM.\",\n",
    "        \"query\": \"SELECT * FROM Aviation.Event WHERE EventTime > 1700\"\n",
    "    },{\n",
    "        \"input\": \"Who are the top 5 operators by the number of incidents?\",\n",
    "        \"query\": \"SELECT TOP 5 OperatorName, COUNT(*) AS IncidentCount FROM Aviation.Aircraft GROUP BY OperatorName ORDER BY IncidentCount DESC\"\n",
    "    },{\n",
    "        \"input\": \"Which incidents occurred in the year 2020?\",\n",
    "        \"query\": \"SELECT * FROM Aviation.Event WHERE YEAR(EventDate) = '2020'\"\n",
    "    },{\n",
    "        \"input\": \"What was the month with most events in the year 2020?\",\n",
    "        \"query\": \"SELECT TOP 1 MONTH(EventDate) EventMonth, COUNT(*) EventCount FROM Aviation.Event WHERE YEAR(EventDate) = '2020' GROUP BY MONTH(EventDate) ORDER BY EventCount DESC\"\n",
    "    },{\n",
    "        \"input\": \"How many crew members were involved in incidents?\",\n",
    "        \"query\": \"SELECT COUNT(*) FROM Aviation.Crew\"\n",
    "    },{\n",
    "        \"input\": \"List all incidents with detailed aircraft information for incidents that occurred in the year 2012.\",\n",
    "        \"query\": \"SELECT e.EventId, e.EventDate, a.AircraftManufacturer, a.AircraftModel, a.AircraftCategory FROM Aviation.Event e JOIN Aviation.Aircraft a ON e.EventId = a.EventId WHERE Year(e.EventDate) = 2012\"\n",
    "    },{\n",
    "        \"input\": \"Find all incidents where there were more than 5 injuries and include the aircraft manufacturer and model.\",\n",
    "        \"query\": \"SELECT e.EventId, e.InjuriesTotal, a.AircraftManufacturer, a.AircraftModel FROM Aviation.Event e JOIN Aviation.Aircraft a ON e.EventId = a.EventId WHERE e.InjuriesTotal > 5\"\n",
    "    },{\n",
    "        \"input\": \"List all crew members involved in incidents with serious injuries, along with the incident date and location.\",\n",
    "        \"query\": \"SELECT c.CrewNumber AS \\\"Crew Number\\\", c.Age, c.Sex Gender, e.EventDate AS \\\"Event Date\\\", e.LocationCity AS \\\"Location City\\\", e.LocationState AS \\\"Location State\\\" FROM Aviation.Crew c JOIN Aviation.Event e ON c.EventId = e.EventId WHERE c.Injury = 'Serious'\"\n",
    "    },\n",
    "]"
   ]
  },
  {
   "cell_type": "markdown",
   "id": "c01a0f88-8413-470e-a3f8-978b27a8d884",
   "metadata": {},
   "source": [
    "And as for the case of tables, we don't need to send all the examples to the LLM. In a production environment, this list will be constantly increased with new examples inputed by users and soom would be unfeaseable to send all of them.\n",
    "\n",
    "In this case we will also user IRIS Vector Search, but this time with the help of the [SemanticSimilarityExampleSelector class](https://api.python.langchain.com/en/latest/example_selectors/langchain_core.example_selectors.semantic_similarity.SemanticSimilarityExampleSelector.html):"
   ]
  },
  {
   "cell_type": "code",
   "execution_count": 25,
   "id": "0134e879-c4a7-4446-9ea6-7be6563d1449",
   "metadata": {},
   "outputs": [],
   "source": [
    "example_selector = SemanticSimilarityExampleSelector.from_examples(\n",
    "    examples,\n",
    "    OpenAIEmbeddings(),\n",
    "    IRISVector,\n",
    "    k=5,\n",
    "    input_keys=[\"input\"],\n",
    "    connection_string=iris_conn_str,\n",
    "    collection_name=\"sql_samples\",\n",
    "    pre_delete_collection=True\n",
    ")"
   ]
  },
  {
   "cell_type": "markdown",
   "id": "e3ae186c-d550-49fa-a964-d177a8594469",
   "metadata": {},
   "source": [
    "Remembering that the pre_delete_collection flag is used here for demo purpose only to ensure a fresh collection on every test run during development and should be avoided in production."
   ]
  },
  {
   "cell_type": "markdown",
   "id": "c152b686-17bb-45cd-b000-bfc11266675a",
   "metadata": {},
   "source": [
    "This class allows us to retrieve the k first examples that best fit an user prompt. Let's chek it out:"
   ]
  },
  {
   "cell_type": "code",
   "execution_count": 26,
   "id": "3da494fa-f8d5-4c81-a9da-2db90313caaf",
   "metadata": {},
   "outputs": [
    {
     "data": {
      "text/plain": [
       "[{'input': 'List all incidents with detailed aircraft information for incidents that occurred in the year 2012.',\n",
       "  'query': 'SELECT e.EventId, e.EventDate, a.AircraftManufacturer, a.AircraftModel, a.AircraftCategory FROM Aviation.Event e JOIN Aviation.Aircraft a ON e.EventId = a.EventId WHERE Year(e.EventDate) = 2012'},\n",
       " {'input': \"Find all incidents for the aircraft with ID 'N12345'.\",\n",
       "  'query': \"SELECT * FROM Aviation.Event WHERE EventId IN (SELECT EventId FROM Aviation.Aircraft WHERE ID = 'N12345')\"},\n",
       " {'input': 'Find all incidents where there were more than 5 injuries and include the aircraft manufacturer and model.',\n",
       "  'query': 'SELECT e.EventId, e.InjuriesTotal, a.AircraftManufacturer, a.AircraftModel FROM Aviation.Event e JOIN Aviation.Aircraft a ON e.EventId = a.EventId WHERE e.InjuriesTotal > 5'},\n",
       " {'input': 'List all aircrafts.', 'query': 'SELECT * FROM Aviation.Aircraft'},\n",
       " {'input': 'Find the total number of distinct aircrafts involved in incidents.',\n",
       "  'query': 'SELECT COUNT(DISTINCT AircraftKey) FROM Aviation.Aircraft'}]"
      ]
     },
     "execution_count": 26,
     "metadata": {},
     "output_type": "execute_result"
    }
   ],
   "source": [
    "input = \"Find all events in 2010 informing the Event Id and date, location city and state, aircraft manufacturer and model.\"\n",
    "example_selector.select_examples({\"input\": input})"
   ]
  },
  {
   "cell_type": "markdown",
   "id": "d6bfb3d6-5656-4dd9-880e-71ed7c48fa6b",
   "metadata": {},
   "source": [
    "As you can see, the results have no `COUNT(*)` statements, despite of having a lot of examples using it in the examples list. \n",
    "\n",
    "Now let's ask for quantities:"
   ]
  },
  {
   "cell_type": "code",
   "execution_count": 27,
   "id": "984d856c-0156-4c8c-bb00-bba40fc63004",
   "metadata": {},
   "outputs": [
    {
     "data": {
      "text/plain": [
       "[{'input': 'How many incidents are associated with the aircraft with AircraftKey 5?',\n",
       "  'query': 'SELECT COUNT(*) FROM Aviation.Aircraft WHERE AircraftKey = 5'},\n",
       " {'input': 'Find the total number of distinct aircrafts involved in incidents.',\n",
       "  'query': 'SELECT COUNT(DISTINCT AircraftKey) FROM Aviation.Aircraft'},\n",
       " {'input': 'How many crew members were involved in incidents?',\n",
       "  'query': 'SELECT COUNT(*) FROM Aviation.Crew'},\n",
       " {'input': 'Find all incidents where there were more than 5 injuries and include the aircraft manufacturer and model.',\n",
       "  'query': 'SELECT e.EventId, e.InjuriesTotal, a.AircraftManufacturer, a.AircraftModel FROM Aviation.Event e JOIN Aviation.Aircraft a ON e.EventId = a.EventId WHERE e.InjuriesTotal > 5'},\n",
       " {'input': 'List all incidents with detailed aircraft information for incidents that occurred in the year 2012.',\n",
       "  'query': 'SELECT e.EventId, e.EventDate, a.AircraftManufacturer, a.AircraftModel, a.AircraftCategory FROM Aviation.Event e JOIN Aviation.Aircraft a ON e.EventId = a.EventId WHERE Year(e.EventDate) = 2012'}]"
      ]
     },
     "execution_count": 27,
     "metadata": {},
     "output_type": "execute_result"
    }
   ],
   "source": [
    "input = \"What is the number of incidents involving Boeing aircraft.\"\n",
    "example_selector.select_examples({\"input\": input})"
   ]
  },
  {
   "cell_type": "markdown",
   "id": "2c5dd0e1-7ce6-4bcc-863a-bd0c29140ab3",
   "metadata": {},
   "source": [
    "Now note that the first examples - the most similars, have the `COUNT(*)` statement.\n",
    "\n",
    "And as for the case of tables, we also have some results that aren't good and a complementary approach should be implemented in the future to exclude such bad results."
   ]
  },
  {
   "cell_type": "markdown",
   "id": "5263a94a-fe2f-4142-9ade-78601fa99cd4",
   "metadata": {},
   "source": [
    "## Accuracy test"
   ]
  },
  {
   "cell_type": "markdown",
   "id": "1feaf211-4cca-4fcf-8947-b4e74aeb1f65",
   "metadata": {},
   "source": [
    "Now we have all information needed to set up the prompt and send it to the LLM.\n",
    "\n",
    "Let's create a function to do that:"
   ]
  },
  {
   "cell_type": "code",
   "execution_count": 28,
   "id": "44845d72-4a0e-4cc6-81f2-721ab846db79",
   "metadata": {},
   "outputs": [],
   "source": [
    "def get_sql_from_text(context, prompt, user_input, use_few_shots, tables_vector_store, table_df, example_selector=None, example_prompt=None):\n",
    "    relevant_tables = get_relevant_tables(user_input, tables_vector_store, table_df)\n",
    "    context[\"table_info\"] = \"\\n\\n\".join(relevant_tables)\n",
    "\n",
    "    examples = example_selector.select_examples({\"input\": user_input}) if not example_selector is None else []\n",
    "    context[\"examples_value\"] = \"\\n\\n\".join([\n",
    "        example_prompt.invoke(x).to_string() for x in examples\n",
    "    ])\n",
    "    \n",
    "    model = ChatOpenAI(model=\"gpt-3.5-turbo\", temperature=0)\n",
    "    output_parser = StrOutputParser()\n",
    "    chain_model = prompt | model | output_parser\n",
    "    \n",
    "    response = chain_model.invoke({\n",
    "        \"top_k\": context[\"top_k\"],\n",
    "        \"table_info\": context[\"table_info\"],\n",
    "        \"examples_value\": context[\"examples_value\"],\n",
    "        \"input\": user_input\n",
    "    })\n",
    "    return response"
   ]
  },
  {
   "cell_type": "markdown",
   "id": "5af40420-b068-47db-a727-1133d875ea51",
   "metadata": {},
   "source": [
    "Let's execute the prompt with and without examples:"
   ]
  },
  {
   "cell_type": "code",
   "execution_count": 29,
   "id": "458b916f-49a5-48ff-aa5d-abbf98d690e4",
   "metadata": {},
   "outputs": [
    {
     "name": "stdout",
     "output_type": "stream",
     "text": [
      "SELECT e.EventId, e.EventDate, e.LocationCity, e.LocationState, a.AircraftManufacturer, a.AircraftModel\n",
      "FROM Aviation.Event e\n",
      "JOIN Aviation.Aircraft a ON e.EventId = a.EventId\n",
      "WHERE Year(e.EventDate) = 2010\n"
     ]
    }
   ],
   "source": [
    "# Prompt execution **with** few shots\n",
    "input = \"Find all events in 2010 informing the Event Id and date, location city and state, aircraft manufacturer and model.\"\n",
    "response_with_few_shots = get_sql_from_text(\n",
    "    context, \n",
    "    prompt, \n",
    "    user_input=input, \n",
    "    use_few_shots=False, \n",
    "    tables_vector_store=tables_vector_store, \n",
    "    table_df=table_df,\n",
    "    example_selector=example_selector, \n",
    "    example_prompt=example_prompt,\n",
    ")\n",
    "print(response_with_few_shots)"
   ]
  },
  {
   "cell_type": "code",
   "execution_count": 30,
   "id": "d74d24e3-a04a-4ef6-a13f-0e231bef9113",
   "metadata": {},
   "outputs": [
    {
     "name": "stdout",
     "output_type": "stream",
     "text": [
      "SELECT TOP 3 \"EventId\", \"EventDate\", \"LocationCity\", \"LocationState\", \"AircraftManufacturer\", \"AircraftModel\"\n",
      "FROM Aviation.Event e\n",
      "JOIN Aviation.Aircraft a ON e.ID = a.Event\n",
      "WHERE e.EventDate >= '2010-01-01' AND e.EventDate < '2011-01-01'\n"
     ]
    }
   ],
   "source": [
    "# Prompt execution **without** few shots\n",
    "input = \"Find all events in 2010 informing the Event Id and date, location city and state, aircraft manufacturer and model.\"\n",
    "response_with_no_few_shots = get_sql_from_text(\n",
    "    context, \n",
    "    prompt, \n",
    "    user_input=input, \n",
    "    use_few_shots=False, \n",
    "    tables_vector_store=tables_vector_store, \n",
    "    table_df=table_df,\n",
    ")\n",
    "print(response_with_no_few_shots)"
   ]
  },
  {
   "cell_type": "markdown",
   "id": "f097f963-ede3-4fc6-9367-825a34d46eec",
   "metadata": {},
   "source": [
    "Let's check if those SQL queries work, by creating some utility functions:"
   ]
  },
  {
   "cell_type": "code",
   "execution_count": 31,
   "id": "d916f71d-df24-4b17-a21a-b3018370ec5f",
   "metadata": {},
   "outputs": [],
   "source": [
    "def execute_sql_query(cnx, query):\n",
    "    try:\n",
    "        cursor = cnx.cursor()\n",
    "        cursor.execute(query)\n",
    "        rows = cursor.fetchall()\n",
    "        return rows\n",
    "    except:\n",
    "        print('error on running query: ')\n",
    "        print(query)\n",
    "        print('-'*80)\n",
    "    return None"
   ]
  },
  {
   "cell_type": "code",
   "execution_count": 32,
   "id": "84fcf236-ae3d-4586-b600-c49f072a319a",
   "metadata": {},
   "outputs": [
    {
     "name": "stdout",
     "output_type": "stream",
     "text": [
      "SQL is OK\n"
     ]
    }
   ],
   "source": [
    "# SQL test for prompt **with** few shots\n",
    "print(\"SQL is OK\" if not execute_sql_query(cnx, response_with_few_shots) is None else \"SQL is not OK\")"
   ]
  },
  {
   "cell_type": "code",
   "execution_count": 33,
   "id": "1166576d-ad95-40e8-bb3e-a27813cd4536",
   "metadata": {},
   "outputs": [
    {
     "name": "stdout",
     "output_type": "stream",
     "text": [
      "error on running query: \n",
      "SELECT TOP 3 \"EventId\", \"EventDate\", \"LocationCity\", \"LocationState\", \"AircraftManufacturer\", \"AircraftModel\"\n",
      "FROM Aviation.Event e\n",
      "JOIN Aviation.Aircraft a ON e.ID = a.Event\n",
      "WHERE e.EventDate >= '2010-01-01' AND e.EventDate < '2011-01-01'\n",
      "--------------------------------------------------------------------------------\n",
      "SQL is not OK\n"
     ]
    }
   ],
   "source": [
    "# SQL test for prompt **without** few shots\n",
    "print(\"SQL is OK\" if not execute_sql_query(cnx, response_with_no_few_shots) is None else \"SQL is not OK\")"
   ]
  },
  {
   "cell_type": "markdown",
   "id": "13609590-44d2-44a5-b3ae-2d5fec53fffd",
   "metadata": {},
   "source": [
    "In order to perform a comparasion, let's define a set of SQL queries and them expected results:"
   ]
  },
  {
   "cell_type": "code",
   "execution_count": 34,
   "id": "2c434159-e818-40f3-815e-3e6af026b2f8",
   "metadata": {},
   "outputs": [],
   "source": [
    "tests = [{\n",
    "    # SELECT TOP 3 YEAR(EventDate) AS EventYear, COUNT(*) AS EventCount\n",
    "    # FROM Aviation.Event\n",
    "    # GROUP BY YEAR(EventDate)\n",
    "    # ORDER BY EventCount DESC\n",
    "    \"input\": \"What were the top 3 years with the most recorded events?\",\n",
    "    \"expected\": [{128, 2003}, {122, 2007}, {117, 2005}]\n",
    "},{\n",
    "    # SELECT COUNT(*) FROM Aviation.Event WHERE EventId IN (SELECT EventId FROM Aviation.Aircraft WHERE AircraftManufacturer = 'Boeing')\n",
    "    \"input\": \"How may incidents involving Boeing aircraft.\",\n",
    "    \"expected\": [{5}]\n",
    "},{\n",
    "    # SELECT count(*) FROM Aviation.Event WHERE InjuriesTotalFatal > 0\n",
    "    \"input\": \"How may incidents that resulted in fatalities.\",\n",
    "    \"expected\": [{237}]\n",
    "},{\n",
    "    # SELECT e.EventId, e.EventDate, c.CrewNumber, c.Age, c.Sex FROM Aviation.Event e JOIN Aviation.Crew c ON e.EventId = c.EventId WHERE YEAR(e.EventDate) = 2013\n",
    "    \"input\": \"List event Id and date and, crew number, age and gender for incidents that occurred in 2013.\",\n",
    "    \"expected\": [{1, datetime.datetime(2013, 3, 4, 11, 6), '20130305X71252', 59, 'M'},\n",
    "                 {1, datetime.datetime(2013, 1, 1, 15, 0), '20130101X94035', 32, 'M'},\n",
    "                 {2, datetime.datetime(2013, 1, 1, 15, 0), '20130101X94035', 35, 'M'},\n",
    "                 {1, datetime.datetime(2013, 1, 12, 15, 0), '20130113X42535', 25, 'M'},\n",
    "                 {2, datetime.datetime(2013, 1, 12, 15, 0), '20130113X42535', 34, 'M'},\n",
    "                 {1, datetime.datetime(2013, 2, 1, 15, 0), '20130203X53401', 29, 'M'},\n",
    "                 {1, datetime.datetime(2013, 2, 15, 15, 0), '20130218X70747', 27, 'M'},\n",
    "                 {1, datetime.datetime(2013, 3, 2, 15, 0), '20130303X21011', 49, 'M'},\n",
    "                 {1, datetime.datetime(2013, 3, 23, 13, 52), '20130326X85150', 'M', None}]\n",
    "},{\n",
    "    # SELECT COUNT(*) FROM Aviation.Event WHERE LocationCountry = 'United States'\n",
    "    \"input\": \"Find the total number of incidents that occurred in the United States.\",\n",
    "    \"expected\": [{1178}]\n",
    "},{\n",
    "    # SELECT LocationCoordsLatitude, LocationCoordsLongitude, InjuriesTotal FROM Aviation.Event WHERE YEAR(EventDate) = 2010 AND InjuriesTotal > 5\n",
    "    \"input\": \"List all incidents lattitude and longitude coordinates with more than 5 injuries that occurred in 2010.\",\n",
    "    \"expected\": [{-78.76833333333333, 43.25277777777778}]\n",
    "},{\n",
    "    # SELECT e.EventId, e.EventDate, e.LocationCity, e.LocationState, a.AircraftManufacturer, a.AircraftModel \n",
    "    # FROM Aviation.Event e \n",
    "    # JOIN Aviation.Aircraft a ON e.EventId = a.EventId \n",
    "    # WHERE YEAR(e.EventDate) = 2010 AND LocationState = 'New York'\n",
    "    \"input\": \"Find all incidents in 2010 informing the Event Id and date, location city and state, aircraft manufacturer and model.\",\n",
    "    \"expected\": [\n",
    "        {datetime.datetime(2010, 5, 20, 13, 43), '20100520X60222', 'CIRRUS DESIGN CORP', 'Farmingdale', 'New York', 'SR22'},\n",
    "        {datetime.datetime(2010, 4, 11, 15, 0), '20100411X73253', 'CZECH AIRCRAFT WORKS SPOL SRO', 'Millbrook', 'New York', 'SPORTCRUISER'},\n",
    "        {'108', datetime.datetime(2010, 1, 9, 12, 55), '20100111X41106', 'Bayport', 'New York', 'STINSON'},\n",
    "        {datetime.datetime(2010, 8, 1, 14, 20), '20100801X85218', 'A185F', 'CESSNA', 'New York', 'Newfane'}\n",
    "    ]\n",
    "}]"
   ]
  },
  {
   "cell_type": "markdown",
   "id": "272148b8-c65d-4f59-9668-20ef1ddb4f5b",
   "metadata": {},
   "source": [
    "Now, let's define a function that checks if a SQL query returns the expected results:"
   ]
  },
  {
   "cell_type": "code",
   "execution_count": 35,
   "id": "6fcb96fa-e7a4-4bce-acee-7ab7d800e9db",
   "metadata": {},
   "outputs": [],
   "source": [
    "def sql_result_equals(cnx, query, expected):\n",
    "    rows = execute_sql_query(cnx, query)\n",
    "    result = [set(row._asdict().values()) for row in rows or []]\n",
    "    if result != expected and not rows is None:\n",
    "        print('result not expected for query: ')\n",
    "        print(query)\n",
    "        print('-'*80)\n",
    "    return result == expected"
   ]
  },
  {
   "cell_type": "markdown",
   "id": "20ecdf77-4dfb-4258-8a5a-7e4b6016710c",
   "metadata": {},
   "source": [
    "Then let's put all together and define a function to test each test case and calculate the test accuracy:"
   ]
  },
  {
   "cell_type": "code",
   "execution_count": 36,
   "id": "4089477e-0185-4749-a2bd-80102278f6ac",
   "metadata": {},
   "outputs": [],
   "source": [
    "def execute_tests(cnx, context, prompt, use_few_shots, tables_vector_store, table_df, example_selector, example_prompt):\n",
    "    tests_generated_sql = [(x, get_sql_from_text(\n",
    "            context, \n",
    "            prompt, \n",
    "            user_input=x['input'], \n",
    "            use_few_shots=use_few_shots, \n",
    "            tables_vector_store=tables_vector_store, \n",
    "            table_df=table_df,\n",
    "            example_selector=example_selector if use_few_shots else None, \n",
    "            example_prompt=example_prompt if use_few_shots else None,\n",
    "        )) for x in deepcopy(tests)]\n",
    "    \n",
    "    tests_sql_executions = [(x[0], sql_result_equals(cnx, x[1], x[0]['expected'])) \n",
    "                            for x in tests_generated_sql]\n",
    "    \n",
    "    accuracy = sum(1 for i in tests_sql_executions if i[1] == True) / len(tests_sql_executions)\n",
    "    print(f'accuracy: {accuracy}')\n",
    "    print('-'*80)"
   ]
  },
  {
   "cell_type": "code",
   "execution_count": 37,
   "id": "d69b7525-40d8-4d4f-9c1a-4709b7d8fe9b",
   "metadata": {},
   "outputs": [
    {
     "name": "stdout",
     "output_type": "stream",
     "text": [
      "error on running query: \n",
      "SELECT \"EventDate\", COUNT(\"EventId\") as \"TotalEvents\"\n",
      "FROM Aviation.Event\n",
      "GROUP BY \"EventDate\"\n",
      "ORDER BY \"TotalEvents\" DESC\n",
      "TOP 3;\n",
      "--------------------------------------------------------------------------------\n",
      "error on running query: \n",
      "SELECT \"EventId\", \"EventDate\", \"C\".\"CrewNumber\", \"C\".\"Age\", \"C\".\"Sex\"\n",
      "FROM \"Aviation.Event\" AS \"E\"\n",
      "JOIN \"Aviation.Crew\" AS \"C\" ON \"E\".\"ID\" = \"C\".\"EventId\"\n",
      "WHERE \"E\".\"EventDate\" >= '2013-01-01' AND \"E\".\"EventDate\" < '2014-01-01'\n",
      "--------------------------------------------------------------------------------\n",
      "result not expected for query: \n",
      "SELECT TOP 3 \"e\".\"EventId\", \"e\".\"EventDate\", \"e\".\"LocationCity\", \"e\".\"LocationState\", \"a\".\"AircraftManufacturer\", \"a\".\"AircraftModel\"\n",
      "FROM \"Aviation\".\"Event\" AS \"e\"\n",
      "JOIN \"Aviation\".\"Aircraft\" AS \"a\" ON \"e\".\"ID\" = \"a\".\"Event\"\n",
      "WHERE \"e\".\"EventDate\" >= '2010-01-01' AND \"e\".\"EventDate\" < '2011-01-01'\n",
      "--------------------------------------------------------------------------------\n",
      "accuracy: 0.5714285714285714\n",
      "--------------------------------------------------------------------------------\n"
     ]
    }
   ],
   "source": [
    "# Accuracy tests for prompts executed **without** few shots\n",
    "use_few_shots=False\n",
    "execute_tests(\n",
    "    cnx,\n",
    "    context, \n",
    "    prompt, \n",
    "    use_few_shots, \n",
    "    tables_vector_store, \n",
    "    table_df, \n",
    "    example_selector, \n",
    "    example_prompt\n",
    ")"
   ]
  },
  {
   "cell_type": "markdown",
   "id": "006bf7af-5e24-453d-bb14-7aca00846a77",
   "metadata": {},
   "source": [
    "------"
   ]
  },
  {
   "cell_type": "code",
   "execution_count": 38,
   "id": "9fe4f985-db24-44e2-b978-4f6b90053cf0",
   "metadata": {},
   "outputs": [
    {
     "name": "stdout",
     "output_type": "stream",
     "text": [
      "error on running query: \n",
      "SELECT e.EventId, e.EventDate, e.LocationCity, e.LocationState, a.AircraftManufacturer, a.AircraftModel\n",
      "FROM Aviation.Event e\n",
      "JOIN Aviation.Aircraft a ON e.EventId = a.EventId\n",
      "WHERE Year(e.EventDate) = 2010 TOP 3\n",
      "--------------------------------------------------------------------------------\n",
      "accuracy: 0.8571428571428571\n",
      "--------------------------------------------------------------------------------\n"
     ]
    }
   ],
   "source": [
    "# Accuracy tests for prompts executed **with** few shots\n",
    "use_few_shots=True\n",
    "execute_tests(\n",
    "    cnx,\n",
    "    context, \n",
    "    prompt, \n",
    "    use_few_shots, \n",
    "    tables_vector_store, \n",
    "    table_df, \n",
    "    example_selector, \n",
    "    example_prompt\n",
    ")"
   ]
  },
  {
   "cell_type": "markdown",
   "id": "21f68f16-213d-4e0f-93ff-781181770be2",
   "metadata": {},
   "source": [
    "As you can see, SQL queries generated with few shots was about 49% more accurate than the ones generated without few shots - 85% vs 57%."
   ]
  },
  {
   "cell_type": "markdown",
   "id": "144fb6a5-3fa7-4e61-b140-f42dbee9485f",
   "metadata": {},
   "source": [
    "## References"
   ]
  },
  {
   "cell_type": "markdown",
   "id": "5c8ff00b-f00d-4987-adf0-83bbc6ac8601",
   "metadata": {},
   "source": [
    "- https://python.langchain.com/v0.1/docs/expression_language/get_started/\n",
    "- https://python.langchain.com/v0.1/docs/use_cases/sql/prompting/\n",
    "- https://python.langchain.com/v0.1/docs/modules/model_io/prompts/composition/"
   ]
  }
 ],
 "metadata": {
  "kernelspec": {
   "display_name": "Python 3 (ipykernel)",
   "language": "python",
   "name": "python3"
  },
  "language_info": {
   "codemirror_mode": {
    "name": "ipython",
    "version": 3
   },
   "file_extension": ".py",
   "mimetype": "text/x-python",
   "name": "python",
   "nbconvert_exporter": "python",
   "pygments_lexer": "ipython3",
   "version": "3.11.9"
  }
 },
 "nbformat": 4,
 "nbformat_minor": 5
}
